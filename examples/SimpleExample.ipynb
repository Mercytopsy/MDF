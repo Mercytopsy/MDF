{
 "cells": [
  {
   "cell_type": "markdown",
   "id": "feffc132",
   "metadata": {},
   "source": [
    "# Creating and excecuting MDF models\n",
    "\n",
    "This is a quick introduction to building MDF graphs and using them in different scenarios. Each of this steps will be followed\n",
    "\n",
    "1. **[Create a Model containing a Graph](#h1)**\n",
    "2. **[Adding a State Variable](#h2)**\n",
    "3. **[Generate a graph image from the model](#h2)**\n",
    "4. **[Execute the graph & print the output values](#h3)**"
   ]
  },
  {
   "cell_type": "markdown",
   "id": "ba14965c",
   "metadata": {},
   "source": [
    "## 1. Create a [Model](https://mdf.readthedocs.io/en/latest/api/Specification.html#model) containing a [Graph](https://mdf.readthedocs.io/en/latest/api/Specification.html#graph) <a class=\"anchor\" id=\"h1\"></a>"
   ]
  },
  {
   "cell_type": "markdown",
   "id": "6aed6952",
   "metadata": {},
   "source": [
    "**We are to build a model that has one or more graphs, for which the graph specifies the structure and process flow of our model.**\n",
    "\n",
    "**A detailed explaination on how we can build this Graph will be explained in this notebook**"
   ]
  },
  {
   "cell_type": "code",
   "execution_count": 21,
   "id": "24aeb1e4",
   "metadata": {},
   "outputs": [],
   "source": [
    "from modeci_mdf.mdf import *\n",
    "\n",
    "# Create a model containing one graph\n",
    "mod = Model(id=\"ABCos\")\n",
    "mod_graph = Graph(id=\"abcos\")\n",
    "mod.graphs.append(mod_graph)\n"
   ]
  },
  {
   "cell_type": "markdown",
   "id": "6e3424b7",
   "metadata": {},
   "source": [
    "\n",
    "### 1.1 Create the first [Node](https://mdf.readthedocs.io/en/latest/api/Specification.html#node)"
   ]
  },
  {
   "cell_type": "markdown",
   "id": "446d3103",
   "metadata": {},
   "source": [
    "**The first Node A was created here. A parameter was defined to accept our value and an output port was created to**\n",
    "\n",
    "**pass our information down to the next node**"
   ]
  },
  {
   "cell_type": "code",
   "execution_count": 22,
   "id": "a901b65d",
   "metadata": {},
   "outputs": [
    {
     "name": "stdout",
     "output_type": "stream",
     "text": [
      "abcos:\n",
      "    nodes:\n",
      "        A:\n",
      "            metadata:\n",
      "                color: 0 .8 0\n",
      "            parameters:\n",
      "                level:\n",
      "                    value: 1.0\n",
      "            output_ports:\n",
      "                output:\n",
      "                    value: level\n",
      "\n"
     ]
    }
   ],
   "source": [
    "# Create a node\n",
    "a_node = Node(id=\"A\", metadata={\"color\": \"0 .8 0\"})\n",
    "\n",
    "# Add a parameter with a specific value\n",
    "a_node.parameters.append(Parameter(id=\"level\", value=1.0))\n",
    "\n",
    "# Add an output port\n",
    "a_node.output_ports.append(OutputPort(id=\"output\", value = \"level\"))\n",
    "\n",
    "# Add node to the graph\n",
    "mod_graph.nodes.append(a_node)\n",
    "\n",
    "# Print current structure as YAML\n",
    "print(mod_graph.to_yaml())"
   ]
  },
  {
   "cell_type": "markdown",
   "id": "b71a5b72",
   "metadata": {},
   "source": [
    "**The result specified below is being printed in a .yml output format, which can be seen in a serialized format**"
   ]
  },
  {
   "cell_type": "markdown",
   "id": "55cdb426",
   "metadata": {},
   "source": [
    "."
   ]
  },
  {
   "cell_type": "markdown",
   "id": "46c51277",
   "metadata": {},
   "source": [
    "### 1.2 Create another [Node](https://mdf.readthedocs.io/en/latest/api/Specification.html#node) known as B"
   ]
  },
  {
   "cell_type": "markdown",
   "id": "897d0437",
   "metadata": {},
   "source": [
    "**We created another new Node here known as B, this node contains an input Port which obtained information from the** \n",
    "\n",
    "**earlier node (A). We also defined our prarameters and functions, the functions used in this node is the**\n",
    "\n",
    "**linear function equation. When we were done, we passed the information to the output Port for use**\n",
    "\n",
    "\n"
   ]
  },
  {
   "cell_type": "markdown",
   "id": "ae5396c2",
   "metadata": {},
   "source": [
    "."
   ]
  },
  {
   "cell_type": "code",
   "execution_count": 23,
   "id": "19693651",
   "metadata": {},
   "outputs": [],
   "source": [
    "b_node = Node(id=\"B\", metadata={\"color\": \".8 0 0\"})\n",
    "mod_graph.nodes.append(b_node)\n",
    "\n",
    "# Add an input port\n",
    "b_node.input_ports.append(InputPort(id=\"input\"))\n",
    "\n",
    "# Add some parameters\n",
    "b_node.parameters.append(Parameter(id=\"slope\", value=1.2))\n",
    "b_node.parameters.append(Parameter(id=\"intercept\", value=3))\n",
    "\n",
    "\n",
    "# Add a parameter which used the internal parameter as well as the value from the input\n",
    "p1 = Parameter(\n",
    "    id=\"linear_func\",\n",
    "    value=\"input * slope + intercept\",\n",
    ")\n",
    "b_node.parameters.append(p1)\n",
    "\n",
    "# Add an output port\n",
    "b_node.output_ports.append(OutputPort(id=\"output\", value=\"linear_func\"))"
   ]
  },
  {
   "cell_type": "markdown",
   "id": "8cde0341",
   "metadata": {},
   "source": [
    "**An edge was created between Nodes A and B to connect our first Node A to the Second Node B. Using this edge,**\n",
    "\n",
    "**the information from Output Port of A was passed down to the input port of B for use. After the connection we**\n",
    "\n",
    "**can see the result expressed in a serialized format when printed.**"
   ]
  },
  {
   "cell_type": "markdown",
   "id": "1aa3ae1b",
   "metadata": {},
   "source": [
    "### 1.3 Create an  [Edge](https://mdf.readthedocs.io/en/latest/api/Specification.html#edge) between the [Nodes](https://mdf.readthedocs.io/en/latest/api/Specification.html#node) A and B"
   ]
  },
  {
   "cell_type": "code",
   "execution_count": 24,
   "id": "022a2d0d",
   "metadata": {},
   "outputs": [
    {
     "name": "stdout",
     "output_type": "stream",
     "text": [
      "abcos:\n",
      "    nodes:\n",
      "        A:\n",
      "            metadata:\n",
      "                color: 0 .8 0\n",
      "            parameters:\n",
      "                level:\n",
      "                    value: 1.0\n",
      "            output_ports:\n",
      "                output:\n",
      "                    value: level\n",
      "        B:\n",
      "            metadata:\n",
      "                color: .8 0 0\n",
      "            input_ports:\n",
      "                input: {}\n",
      "            parameters:\n",
      "                slope:\n",
      "                    value: 1.2\n",
      "                intercept:\n",
      "                    value: 3\n",
      "                linear_func:\n",
      "                    value: input * slope + intercept\n",
      "            output_ports:\n",
      "                output:\n",
      "                    value: linear_func\n",
      "    edges:\n",
      "        edge_A_B:\n",
      "            sender: A\n",
      "            receiver: B\n",
      "            sender_port: output\n",
      "            receiver_port: input\n",
      "\n"
     ]
    }
   ],
   "source": [
    "# This helper method just adds an edge connecting the first output port of \n",
    "# the pre node to the first input port of the post node\n",
    "from modeci_mdf.utils import simple_connect\n",
    "\n",
    "e1 = simple_connect(a_node, b_node, mod_graph)\n",
    "\n",
    "# Print the current structure\n",
    "print(mod_graph.to_yaml())"
   ]
  },
  {
   "cell_type": "markdown",
   "id": "a06d9546",
   "metadata": {},
   "source": [
    "### 2.    Adding a State Variable"
   ]
  },
  {
   "cell_type": "markdown",
   "id": "446244e7",
   "metadata": {},
   "source": [
    "**In this section, we added a state variable which helps to show us how informations persisted during our nodes**\n",
    "\n",
    "**execution. We as well have the opportunity to modify this state on any of our node execution or other subsequent** \n",
    "\n",
    "**executions.**\n"
   ]
  },
  {
   "cell_type": "code",
   "execution_count": 25,
   "id": "655394b8",
   "metadata": {},
   "outputs": [],
   "source": [
    "the_cos_node = Node(id=\"cos_node\",  metadata={\"color\": \"0 .8 0\"})\n",
    "mod_graph.nodes.append(the_cos_node)\n",
    "#Add an input port\n",
    "ip1 = InputPort(id=\"input_port1\")\n",
    "the_cos_node.input_ports.append(ip1)\n",
    "the_cos_node.parameters.append(Parameter(id=\"amp\", value=3))\n",
    "the_cos_node.parameters.append(Parameter(id=\"duration\", value=1.4))\n",
    "\n",
    "v1 = Parameter(\n",
    "        id=\"level\", default_initial_value=0, time_derivative=\"6.283185 * rate / duration\"\n",
    "    )\n",
    "the_cos_node.parameters.append(v1)\n",
    "\n",
    "v2 = Parameter(\n",
    "    id=\"rate\",\n",
    "    default_initial_value=1,\n",
    "    time_derivative=\"-1 * 6.283185 * level / duration\",\n",
    ")\n",
    "the_cos_node.parameters.append(v2)\n",
    "\n",
    "op1 = OutputPort(id=\"out_port\", value=\"amp * level\")\n",
    "the_cos_node.output_ports.append(op1)\n",
    "\n",
    "mod_graph.nodes.append(the_cos_node)"
   ]
  },
  {
   "cell_type": "markdown",
   "id": "08b78236",
   "metadata": {},
   "source": [
    "**When we were done creating our state variable, we created an Edge which connects output port of B to the input Port** \n",
    "\n",
    "**of our State Variable Node. After that, we printed the current structure of the graph using the .yaml format**"
   ]
  },
  {
   "cell_type": "markdown",
   "id": "a6c98662",
   "metadata": {},
   "source": [
    "### 2.1 Create an  [Edge](https://mdf.readthedocs.io/en/latest/api/Specification.html#edge) between the [Nodes](https://mdf.readthedocs.io/en/latest/api/Specification.html#node)"
   ]
  },
  {
   "cell_type": "code",
   "execution_count": 26,
   "id": "20b8a6b7",
   "metadata": {},
   "outputs": [
    {
     "name": "stdout",
     "output_type": "stream",
     "text": [
      "abcos:\n",
      "    nodes:\n",
      "        A:\n",
      "            metadata:\n",
      "                color: 0 .8 0\n",
      "            parameters:\n",
      "                level:\n",
      "                    value: 1.0\n",
      "            output_ports:\n",
      "                output:\n",
      "                    value: level\n",
      "        B:\n",
      "            metadata:\n",
      "                color: .8 0 0\n",
      "            input_ports:\n",
      "                input: {}\n",
      "            parameters:\n",
      "                slope:\n",
      "                    value: 1.2\n",
      "                intercept:\n",
      "                    value: 3\n",
      "                linear_func:\n",
      "                    value: input * slope + intercept\n",
      "            output_ports:\n",
      "                output:\n",
      "                    value: linear_func\n",
      "        cos_node:\n",
      "            metadata:\n",
      "                color: 0 .8 0\n",
      "            input_ports:\n",
      "                input_port1: {}\n",
      "            parameters:\n",
      "                amp:\n",
      "                    value: 3\n",
      "                duration:\n",
      "                    value: 1.4\n",
      "                level:\n",
      "                    default_initial_value: 0\n",
      "                    time_derivative: 6.283185 * rate / duration\n",
      "                rate:\n",
      "                    default_initial_value: 1\n",
      "                    time_derivative: -1 * 6.283185 * level / duration\n",
      "            output_ports:\n",
      "                out_port:\n",
      "                    value: amp * level\n",
      "    edges:\n",
      "        edge_A_B:\n",
      "            sender: A\n",
      "            receiver: B\n",
      "            sender_port: output\n",
      "            receiver_port: input\n",
      "        edge_B_cos_node:\n",
      "            sender: B\n",
      "            receiver: cos_node\n",
      "            sender_port: output\n",
      "            receiver_port: input_port1\n",
      "\n"
     ]
    }
   ],
   "source": [
    "# This helper method just adds an edge connecting the first output port of \n",
    "# the pre node to the first input port of the post node\n",
    "from modeci_mdf.utils import simple_connect\n",
    "\n",
    "e1 = simple_connect(b_node, the_cos_node,mod_graph)\n",
    "\n",
    "# Print the current structure\n",
    "print(mod_graph.to_yaml())\n"
   ]
  },
  {
   "cell_type": "markdown",
   "id": "c29c56bf",
   "metadata": {},
   "source": [
    "."
   ]
  },
  {
   "cell_type": "markdown",
   "id": "c74c13da",
   "metadata": {},
   "source": [
    "Here, we go further to generate our graph image from our Model"
   ]
  },
  {
   "cell_type": "markdown",
   "id": "cdfc66f8",
   "metadata": {},
   "source": [
    "## 3. Generate a graph image from the model <a class=\"anchor\" id=\"h2\"></a>\n",
    "\n",
    "We will use a method on the model to generate an image representing the structure of the graph.\n"
   ]
  },
  {
   "cell_type": "markdown",
   "id": "5b134701",
   "metadata": {},
   "source": [
    "An ABCos Graph Image was generated from the model"
   ]
  },
  {
   "cell_type": "code",
   "execution_count": 27,
   "id": "69740bde",
   "metadata": {},
   "outputs": [
    {
     "name": "stdout",
     "output_type": "stream",
     "text": [
      "Converting MDF graph: abcos to graphviz (level: 3, format: png)\n",
      "    Node: A\n",
      "Converting 0 .8 0 to hex color\n",
      "    Node: B\n",
      "Converting .8 0 0 to hex color\n",
      "    Node: cos_node\n",
      "Converting 0 .8 0 to hex color\n",
      "    Node: cos_node\n",
      "Converting 0 .8 0 to hex color\n",
      "    Edge: edge_A_B connects A to B\n",
      "    Edge: edge_B_cos_node connects B to cos_node\n",
      "Written graph image to: ABCos.png\n"
     ]
    },
    {
     "data": {
      "image/png": "[encoded data removed]",
      "text/plain": [
       "<IPython.core.display.Image object>"
      ]
     },
     "execution_count": 27,
     "metadata": {},
     "output_type": "execute_result"
    }
   ],
   "source": [
    "mod.to_graph_image(\n",
    "        engine=\"dot\",\n",
    "        output_format=\"png\",\n",
    "        view_on_render=False,\n",
    "        level=3,\n",
    "        filename_root=\"ABCos\"\n",
    "    )\n",
    "\n",
    "from IPython.display import Image\n",
    "Image(filename=\"ABCos.png\")"
   ]
  },
  {
   "cell_type": "markdown",
   "id": "b6b8aae3",
   "metadata": {},
   "source": [
    "## 4. Execute the graph & print the output values <a class=\"anchor\" id=\"h3\"></a>\n",
    "\n",
    "The Graph is converted to an EvaluableGraph, which can be used to evaluate the current state of the graph's parameters. "
   ]
  },
  {
   "cell_type": "markdown",
   "id": "ece9b9e5",
   "metadata": {},
   "source": [
    "#### 4.1 Execute the graph with the current parameter values "
   ]
  },
  {
   "cell_type": "markdown",
   "id": "e80f56b0",
   "metadata": {},
   "source": [
    "**By using the EvaluableGraph method, we use each of our Node names(A, B,cos_node),along with the output** \n",
    "\n",
    "**name port we created to call the current value result, so we can print out each output result of each nodes**"
   ]
  },
  {
   "cell_type": "code",
   "execution_count": 28,
   "id": "543006ef",
   "metadata": {},
   "outputs": [
    {
     "name": "stdout",
     "output_type": "stream",
     "text": [
      "\n",
      "Init graph: abcos\n",
      "Evaluating graph: abcos, root nodes: ['A', 'cos_node'], with array format numpy\n",
      "Output of A: 1\n",
      "Output of B: 4.2\n",
      "Output of cos_node: 0\n"
     ]
    }
   ],
   "source": [
    "from modeci_mdf.execution_engine import EvaluableGraph\n",
    "\n",
    "eg = EvaluableGraph(mod_graph, verbose=False)\n",
    "eg.evaluate()\n",
    "\n",
    "print('Output of A: %s'%eg.enodes[\"A\"].evaluable_outputs[\"output\"].curr_value)\n",
    "print('Output of B: %s'%eg.enodes[\"B\"].evaluable_outputs[\"output\"].curr_value)\n",
    "print('Output of cos_node: %s'%eg.enodes[\"cos_node\"].evaluable_outputs[\"out_port\"].curr_value)"
   ]
  },
  {
   "cell_type": "markdown",
   "id": "87824063",
   "metadata": {},
   "source": [
    "### 4.2 Change a value to a Numpy array & execute the graph again"
   ]
  },
  {
   "cell_type": "markdown",
   "id": "37581797",
   "metadata": {},
   "source": [
    "**Here, The Node result was printed in an Array format**"
   ]
  },
  {
   "cell_type": "code",
   "execution_count": 29,
   "id": "e9142f37",
   "metadata": {},
   "outputs": [
    {
     "name": "stdout",
     "output_type": "stream",
     "text": [
      "Evaluating graph: abcos, root nodes: ['A', 'cos_node'], with array format numpy\n",
      "Output of A:\n",
      "[[1 2]\n",
      " [3 4]]\n",
      "Output of B:\n",
      "[[4.2 5.4]\n",
      " [6.6 7.8]]\n",
      "Output of cos_node:\n",
      "0\n"
     ]
    }
   ],
   "source": [
    "import numpy as np \n",
    "a_node.get_parameter('level').value = np.array([[1,2],[3,4]])\n",
    "#b_node.get_parameter('linear_func').value = np.array([[1,4],[3,4]])\n",
    "\n",
    "eg.evaluate()\n",
    "\n",
    "print('Output of A:\\n%s'%eg.enodes[\"A\"].evaluable_outputs[\"output\"].curr_value)\n",
    "print('Output of B:\\n%s'%eg.enodes[\"B\"].evaluable_outputs[\"output\"].curr_value)\n",
    "print('Output of cos_node:\\n%s'%eg.enodes[\"cos_node\"].evaluable_outputs[\"out_port\"].curr_value)"
   ]
  },
  {
   "cell_type": "code",
   "execution_count": null,
   "id": "b52d116e",
   "metadata": {},
   "outputs": [],
   "source": []
  }
 ],
 "metadata": {
  "kernelspec": {
   "display_name": "Python 3 (ipykernel)",
   "language": "python",
   "name": "python3"
  },
  "language_info": {
   "codemirror_mode": {
    "name": "ipython",
    "version": 3
   },
   "file_extension": ".py",
   "mimetype": "text/x-python",
   "name": "python",
   "nbconvert_exporter": "python",
   "pygments_lexer": "ipython3",
   "version": "3.9.12"
  }
 },
 "nbformat": 4,
 "nbformat_minor": 5
}
